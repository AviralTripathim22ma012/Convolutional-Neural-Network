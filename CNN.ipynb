{
  "nbformat": 4,
  "nbformat_minor": 0,
  "metadata": {
    "colab": {
      "provenance": [],
      "include_colab_link": true
    },
    "kernelspec": {
      "name": "python3",
      "display_name": "Python 3"
    },
    "language_info": {
      "name": "python"
    },
    "gpuClass": "standard",
    "accelerator": "GPU",
    "widgets": {
      "application/vnd.jupyter.widget-state+json": {
        "57816c9a021f40a290e9ea4414bd574c": {
          "model_module": "@jupyter-widgets/controls",
          "model_name": "HBoxModel",
          "model_module_version": "1.5.0",
          "state": {
            "_dom_classes": [],
            "_model_module": "@jupyter-widgets/controls",
            "_model_module_version": "1.5.0",
            "_model_name": "HBoxModel",
            "_view_count": null,
            "_view_module": "@jupyter-widgets/controls",
            "_view_module_version": "1.5.0",
            "_view_name": "HBoxView",
            "box_style": "",
            "children": [
              "IPY_MODEL_c447451621cb4876a71029282e92afdf",
              "IPY_MODEL_ccb8e93a080f4a7c9ab7fc4675589a78",
              "IPY_MODEL_af3e12e3cc5349eb9f5b246837d50cc6"
            ],
            "layout": "IPY_MODEL_9d2d60ac2622401387d65bc23d0f2ff5"
          }
        },
        "c447451621cb4876a71029282e92afdf": {
          "model_module": "@jupyter-widgets/controls",
          "model_name": "HTMLModel",
          "model_module_version": "1.5.0",
          "state": {
            "_dom_classes": [],
            "_model_module": "@jupyter-widgets/controls",
            "_model_module_version": "1.5.0",
            "_model_name": "HTMLModel",
            "_view_count": null,
            "_view_module": "@jupyter-widgets/controls",
            "_view_module_version": "1.5.0",
            "_view_name": "HTMLView",
            "description": "",
            "description_tooltip": null,
            "layout": "IPY_MODEL_5d29222913b54cb084b3e9046b967604",
            "placeholder": "​",
            "style": "IPY_MODEL_5bfe73bf179a4617b85a2ca2309fa148",
            "value": "100%"
          }
        },
        "ccb8e93a080f4a7c9ab7fc4675589a78": {
          "model_module": "@jupyter-widgets/controls",
          "model_name": "FloatProgressModel",
          "model_module_version": "1.5.0",
          "state": {
            "_dom_classes": [],
            "_model_module": "@jupyter-widgets/controls",
            "_model_module_version": "1.5.0",
            "_model_name": "FloatProgressModel",
            "_view_count": null,
            "_view_module": "@jupyter-widgets/controls",
            "_view_module_version": "1.5.0",
            "_view_name": "ProgressView",
            "bar_style": "success",
            "description": "",
            "description_tooltip": null,
            "layout": "IPY_MODEL_fb18c2e57dba44cbba2307116b6efe56",
            "max": 170498071,
            "min": 0,
            "orientation": "horizontal",
            "style": "IPY_MODEL_410db0cb1e504644a5db919b05c084de",
            "value": 170498071
          }
        },
        "af3e12e3cc5349eb9f5b246837d50cc6": {
          "model_module": "@jupyter-widgets/controls",
          "model_name": "HTMLModel",
          "model_module_version": "1.5.0",
          "state": {
            "_dom_classes": [],
            "_model_module": "@jupyter-widgets/controls",
            "_model_module_version": "1.5.0",
            "_model_name": "HTMLModel",
            "_view_count": null,
            "_view_module": "@jupyter-widgets/controls",
            "_view_module_version": "1.5.0",
            "_view_name": "HTMLView",
            "description": "",
            "description_tooltip": null,
            "layout": "IPY_MODEL_9511b5e38c7049b5ae20811173f05c4a",
            "placeholder": "​",
            "style": "IPY_MODEL_acf9993e867740fa887c2e778ebf3464",
            "value": " 170498071/170498071 [00:13&lt;00:00, 13979588.33it/s]"
          }
        },
        "9d2d60ac2622401387d65bc23d0f2ff5": {
          "model_module": "@jupyter-widgets/base",
          "model_name": "LayoutModel",
          "model_module_version": "1.2.0",
          "state": {
            "_model_module": "@jupyter-widgets/base",
            "_model_module_version": "1.2.0",
            "_model_name": "LayoutModel",
            "_view_count": null,
            "_view_module": "@jupyter-widgets/base",
            "_view_module_version": "1.2.0",
            "_view_name": "LayoutView",
            "align_content": null,
            "align_items": null,
            "align_self": null,
            "border": null,
            "bottom": null,
            "display": null,
            "flex": null,
            "flex_flow": null,
            "grid_area": null,
            "grid_auto_columns": null,
            "grid_auto_flow": null,
            "grid_auto_rows": null,
            "grid_column": null,
            "grid_gap": null,
            "grid_row": null,
            "grid_template_areas": null,
            "grid_template_columns": null,
            "grid_template_rows": null,
            "height": null,
            "justify_content": null,
            "justify_items": null,
            "left": null,
            "margin": null,
            "max_height": null,
            "max_width": null,
            "min_height": null,
            "min_width": null,
            "object_fit": null,
            "object_position": null,
            "order": null,
            "overflow": null,
            "overflow_x": null,
            "overflow_y": null,
            "padding": null,
            "right": null,
            "top": null,
            "visibility": null,
            "width": null
          }
        },
        "5d29222913b54cb084b3e9046b967604": {
          "model_module": "@jupyter-widgets/base",
          "model_name": "LayoutModel",
          "model_module_version": "1.2.0",
          "state": {
            "_model_module": "@jupyter-widgets/base",
            "_model_module_version": "1.2.0",
            "_model_name": "LayoutModel",
            "_view_count": null,
            "_view_module": "@jupyter-widgets/base",
            "_view_module_version": "1.2.0",
            "_view_name": "LayoutView",
            "align_content": null,
            "align_items": null,
            "align_self": null,
            "border": null,
            "bottom": null,
            "display": null,
            "flex": null,
            "flex_flow": null,
            "grid_area": null,
            "grid_auto_columns": null,
            "grid_auto_flow": null,
            "grid_auto_rows": null,
            "grid_column": null,
            "grid_gap": null,
            "grid_row": null,
            "grid_template_areas": null,
            "grid_template_columns": null,
            "grid_template_rows": null,
            "height": null,
            "justify_content": null,
            "justify_items": null,
            "left": null,
            "margin": null,
            "max_height": null,
            "max_width": null,
            "min_height": null,
            "min_width": null,
            "object_fit": null,
            "object_position": null,
            "order": null,
            "overflow": null,
            "overflow_x": null,
            "overflow_y": null,
            "padding": null,
            "right": null,
            "top": null,
            "visibility": null,
            "width": null
          }
        },
        "5bfe73bf179a4617b85a2ca2309fa148": {
          "model_module": "@jupyter-widgets/controls",
          "model_name": "DescriptionStyleModel",
          "model_module_version": "1.5.0",
          "state": {
            "_model_module": "@jupyter-widgets/controls",
            "_model_module_version": "1.5.0",
            "_model_name": "DescriptionStyleModel",
            "_view_count": null,
            "_view_module": "@jupyter-widgets/base",
            "_view_module_version": "1.2.0",
            "_view_name": "StyleView",
            "description_width": ""
          }
        },
        "fb18c2e57dba44cbba2307116b6efe56": {
          "model_module": "@jupyter-widgets/base",
          "model_name": "LayoutModel",
          "model_module_version": "1.2.0",
          "state": {
            "_model_module": "@jupyter-widgets/base",
            "_model_module_version": "1.2.0",
            "_model_name": "LayoutModel",
            "_view_count": null,
            "_view_module": "@jupyter-widgets/base",
            "_view_module_version": "1.2.0",
            "_view_name": "LayoutView",
            "align_content": null,
            "align_items": null,
            "align_self": null,
            "border": null,
            "bottom": null,
            "display": null,
            "flex": null,
            "flex_flow": null,
            "grid_area": null,
            "grid_auto_columns": null,
            "grid_auto_flow": null,
            "grid_auto_rows": null,
            "grid_column": null,
            "grid_gap": null,
            "grid_row": null,
            "grid_template_areas": null,
            "grid_template_columns": null,
            "grid_template_rows": null,
            "height": null,
            "justify_content": null,
            "justify_items": null,
            "left": null,
            "margin": null,
            "max_height": null,
            "max_width": null,
            "min_height": null,
            "min_width": null,
            "object_fit": null,
            "object_position": null,
            "order": null,
            "overflow": null,
            "overflow_x": null,
            "overflow_y": null,
            "padding": null,
            "right": null,
            "top": null,
            "visibility": null,
            "width": null
          }
        },
        "410db0cb1e504644a5db919b05c084de": {
          "model_module": "@jupyter-widgets/controls",
          "model_name": "ProgressStyleModel",
          "model_module_version": "1.5.0",
          "state": {
            "_model_module": "@jupyter-widgets/controls",
            "_model_module_version": "1.5.0",
            "_model_name": "ProgressStyleModel",
            "_view_count": null,
            "_view_module": "@jupyter-widgets/base",
            "_view_module_version": "1.2.0",
            "_view_name": "StyleView",
            "bar_color": null,
            "description_width": ""
          }
        },
        "9511b5e38c7049b5ae20811173f05c4a": {
          "model_module": "@jupyter-widgets/base",
          "model_name": "LayoutModel",
          "model_module_version": "1.2.0",
          "state": {
            "_model_module": "@jupyter-widgets/base",
            "_model_module_version": "1.2.0",
            "_model_name": "LayoutModel",
            "_view_count": null,
            "_view_module": "@jupyter-widgets/base",
            "_view_module_version": "1.2.0",
            "_view_name": "LayoutView",
            "align_content": null,
            "align_items": null,
            "align_self": null,
            "border": null,
            "bottom": null,
            "display": null,
            "flex": null,
            "flex_flow": null,
            "grid_area": null,
            "grid_auto_columns": null,
            "grid_auto_flow": null,
            "grid_auto_rows": null,
            "grid_column": null,
            "grid_gap": null,
            "grid_row": null,
            "grid_template_areas": null,
            "grid_template_columns": null,
            "grid_template_rows": null,
            "height": null,
            "justify_content": null,
            "justify_items": null,
            "left": null,
            "margin": null,
            "max_height": null,
            "max_width": null,
            "min_height": null,
            "min_width": null,
            "object_fit": null,
            "object_position": null,
            "order": null,
            "overflow": null,
            "overflow_x": null,
            "overflow_y": null,
            "padding": null,
            "right": null,
            "top": null,
            "visibility": null,
            "width": null
          }
        },
        "acf9993e867740fa887c2e778ebf3464": {
          "model_module": "@jupyter-widgets/controls",
          "model_name": "DescriptionStyleModel",
          "model_module_version": "1.5.0",
          "state": {
            "_model_module": "@jupyter-widgets/controls",
            "_model_module_version": "1.5.0",
            "_model_name": "DescriptionStyleModel",
            "_view_count": null,
            "_view_module": "@jupyter-widgets/base",
            "_view_module_version": "1.2.0",
            "_view_name": "StyleView",
            "description_width": ""
          }
        }
      }
    }
  },
  "cells": [
    {
      "cell_type": "markdown",
      "metadata": {
        "id": "view-in-github",
        "colab_type": "text"
      },
      "source": [
        "<a href=\"https://colab.research.google.com/github/AviralTripathim22ma012/Convolutional-Neural-Network/blob/main/CNN.ipynb\" target=\"_parent\"><img src=\"https://colab.research.google.com/assets/colab-badge.svg\" alt=\"Open In Colab\"/></a>"
      ]
    },
    {
      "cell_type": "code",
      "execution_count": null,
      "metadata": {
        "colab": {
          "base_uri": "https://localhost:8080/",
          "height": 101,
          "referenced_widgets": [
            "57816c9a021f40a290e9ea4414bd574c",
            "c447451621cb4876a71029282e92afdf",
            "ccb8e93a080f4a7c9ab7fc4675589a78",
            "af3e12e3cc5349eb9f5b246837d50cc6",
            "9d2d60ac2622401387d65bc23d0f2ff5",
            "5d29222913b54cb084b3e9046b967604",
            "5bfe73bf179a4617b85a2ca2309fa148",
            "fb18c2e57dba44cbba2307116b6efe56",
            "410db0cb1e504644a5db919b05c084de",
            "9511b5e38c7049b5ae20811173f05c4a",
            "acf9993e867740fa887c2e778ebf3464"
          ]
        },
        "id": "YXZcruiA--nZ",
        "outputId": "f24f2779-9891-48b7-8aa2-27b3ec254b13"
      },
      "outputs": [
        {
          "output_type": "stream",
          "name": "stdout",
          "text": [
            "Downloading https://www.cs.toronto.edu/~kriz/cifar-10-python.tar.gz to ./data/cifar-10-python.tar.gz\n"
          ]
        },
        {
          "output_type": "display_data",
          "data": {
            "text/plain": [
              "  0%|          | 0/170498071 [00:00<?, ?it/s]"
            ],
            "application/vnd.jupyter.widget-view+json": {
              "version_major": 2,
              "version_minor": 0,
              "model_id": "57816c9a021f40a290e9ea4414bd574c"
            }
          },
          "metadata": {}
        },
        {
          "output_type": "stream",
          "name": "stdout",
          "text": [
            "Extracting ./data/cifar-10-python.tar.gz to ./data\n",
            "Files already downloaded and verified\n"
          ]
        }
      ],
      "source": [
        "import torch\n",
        "import torch.nn as nn\n",
        "import torch.nn.functional as F\n",
        "import torchvision\n",
        "import torchvision.transforms as transforms\n",
        "\n",
        "class Cifar10CNN(nn.Module):\n",
        "    def __init__(self):\n",
        "        super(Cifar10CNN, self).__init__()\n",
        "\n",
        "\n",
        "\n",
        "        '''# Convolutional layer 1'''\n",
        "        self.conv1 = nn.Conv2d(3, 16, kernel_size=3, padding=1)\n",
        "\n",
        "        '''# Convolutional layer 2'''\n",
        "        self.conv2 = nn.Conv2d(16, 32, kernel_size=3, padding=1)\n",
        "\n",
        "        '''# Convolutional layer 3'''\n",
        "        self.conv3 = nn.Conv2d(32, 64, kernel_size=3, padding=1)\n",
        "\n",
        "        '''# Convolutional layer 4'''\n",
        "        self.conv4 = nn.Conv2d(64, 128, kernel_size=3, padding=1)\n",
        "\n",
        "        '''# Convolutional layer 5'''\n",
        "        self.conv5 = nn.Conv2d(128, 256, kernel_size=3, padding=1)\n",
        "\n",
        "        '''# Pooling layer 1 with average pooling'''\n",
        "        self.pool1 = nn.AvgPool2d(kernel_size=2, stride=2)\n",
        "\n",
        "        '''# Pooling layer 2 with average pooling'''\n",
        "        self.pool2 = nn.AvgPool2d(kernel_size=2, stride=2)\n",
        "\n",
        "        '''# Fully connected layer'''\n",
        "        self.fc1 = nn.Linear(256*8*8, 512)\n",
        "        self.fc2=nn.Linear(512,10)\n",
        "\n",
        "\n",
        "        '''# Xavier initialization'''\n",
        "        nn.init.xavier_uniform_(self.conv1.weight)\n",
        "        nn.init.xavier_uniform_(self.conv2.weight)\n",
        "        nn.init.xavier_uniform_(self.conv3.weight)\n",
        "        nn.init.xavier_uniform_(self.conv4.weight)\n",
        "        nn.init.xavier_uniform_(self.conv5.weight)\n",
        "        nn.init.xavier_uniform_(self.fc1.weight)\n",
        "        nn.init.xavier_uniform_(self.fc2.weight)\n",
        "\n",
        "\n",
        "\n",
        "\n",
        "\n",
        "    def forward(self, x):\n",
        "        '''# Pass input through convolutional layer 1'''\n",
        "        x = self.conv1(x)\n",
        "        x = F.relu(x)\n",
        "\n",
        "        '''# Pass input through pooling layer 1'''\n",
        "        x = self.pool1(x)\n",
        "\n",
        "        '''# Pass input through convolutional layer 2'''\n",
        "        x = self.conv2(x)\n",
        "        x = F.relu(x)\n",
        "\n",
        "        '''# Pass input through pooling layer 2'''\n",
        "        x = self.pool2(x)\n",
        "\n",
        "        '''# Pass input through convolutional layer 3'''\n",
        "        x = self.conv3(x)\n",
        "        x = F.relu(x)\n",
        "\n",
        "        '''# Pass input through convolutional layer 4'''\n",
        "        x = self.conv4(x)\n",
        "        x = F.relu(x)\n",
        "\n",
        "        '''# Pass input through convolutional layer 5'''\n",
        "        x = self.conv5(x)\n",
        "        x = F.relu(x)\n",
        "\n",
        "        '''# Flatten the output from the convolutional layers'''\n",
        "        x = x.view(-1, 256 * 8 * 8)\n",
        "\n",
        "        '''# Pass input through fully connected layer'''\n",
        "        x = self.fc1(x)\n",
        "        x = self.fc2(x)\n",
        "\n",
        "\n",
        "        return x\n",
        "\n",
        "\n",
        "\n",
        "'''# Load the CIFAR10 dataset'''\n",
        "\n",
        "transform = transforms.Compose([\n",
        "    transforms.ToTensor(),\n",
        "    # transforms.Normalize((0.5, 0.5, 0.5), (0.5, 0.5, 0.5))\n",
        "])\n",
        "\n",
        "trainset = torchvision.datasets.CIFAR10(root='./data', train=True, download=True, transform=transform)\n",
        "trainloader = torch.utils.data.DataLoader(trainset, batch_size=100, shuffle=True, num_workers=2)\n",
        "\n",
        "testset = torchvision.datasets.CIFAR10(root='./data', train=False, download=True, transform=transform)\n",
        "testloader = torch.utils.data.DataLoader(testset, batch_size=100, shuffle=False, num_workers=2)\n",
        "\n",
        "'''# Define classes'''\n",
        "classes = ('plane', 'car', 'bird', 'cat', 'deer', 'dog', 'frog', 'horse', 'ship', 'truck')"
      ]
    },
    {
      "cell_type": "code",
      "source": [
        "image, image_label = trainset[0]\n",
        "print(type(image))\n",
        "print(image_label)\n",
        "print(image.shape)\n",
        "\n",
        "# print(image)\n"
      ],
      "metadata": {
        "colab": {
          "base_uri": "https://localhost:8080/"
        },
        "id": "h2noSf2RYhYb",
        "outputId": "593fe124-cd16-47af-ecad-5d0c73742cd8"
      },
      "execution_count": null,
      "outputs": [
        {
          "output_type": "stream",
          "name": "stdout",
          "text": [
            "<class 'torch.Tensor'>\n",
            "6\n",
            "torch.Size([3, 32, 32])\n"
          ]
        }
      ]
    },
    {
      "cell_type": "code",
      "source": [
        "'''# Data augmentation (random flip and random noise)'''\n",
        "def augment(x, y):\n",
        "    if torch.rand(1) > 0.5:\n",
        "        x = torch.fliplr(x)\n",
        "    x += torch.randn(x.size(), dtype=x.dtype, layout=x.layout, device=x.device) * 0.1\n",
        "    return x, y"
      ],
      "metadata": {
        "id": "rHc21W-N6teq"
      },
      "execution_count": null,
      "outputs": []
    },
    {
      "cell_type": "code",
      "source": [
        "'''checking if CUDA is available or not'''\n",
        "import torch\n",
        "\n",
        "train_on_gpu= torch.cuda.is_available()\n",
        "if not train_on_gpu:\n",
        "  print(\"no\")\n",
        "else:\n",
        "  print(\"yes\")"
      ],
      "metadata": {
        "colab": {
          "base_uri": "https://localhost:8080/"
        },
        "id": "oz5km4CqM3eQ",
        "outputId": "2884a8fb-3415-4886-bb03-7f3399ab3695"
      },
      "execution_count": null,
      "outputs": [
        {
          "output_type": "stream",
          "name": "stdout",
          "text": [
            "yes\n"
          ]
        }
      ]
    },
    {
      "cell_type": "code",
      "source": [
        "import torch.optim as optim\n",
        "\n",
        "model = Cifar10CNN()\n",
        "criterion = nn.CrossEntropyLoss()\n",
        "optimizer = optim.SGD(model.parameters(), lr=0.01, momentum=0.5)\n",
        "\n",
        "# Train the model on your data\n",
        "for epoch in range(10):\n",
        "    i=0\n",
        "    for data, target in trainloader:\n",
        "        i=i+1\n",
        "        if i%100==0:\n",
        "          print(\"ith batch\",i)\n",
        "        data, target = augment(data, target)\n",
        "        optimizer.zero_grad()\n",
        "        output = model(data)\n",
        "        # print(len(output))\n",
        "        loss = criterion(output, target)\n",
        "        loss.backward()\n",
        "        optimizer.step()\n",
        "    print(loss.item())\n",
        "\n",
        "# Calculate the accuracy on the test set\n",
        "correct = 0\n",
        "total = 0\n",
        "with torch.no_grad():\n",
        "    for data, target in testloader:\n",
        "        output = model(data)\n",
        "        _, predicted = torch.max(output.data, 1)\n",
        "        total += target.size(0)\n",
        "        correct += (predicted == target).sum().item()\n",
        "\n",
        "accuracy = 100 * correct / total\n",
        "print('Accuracy of the network on the 10000 test images: {:.2f}%'.format(accuracy))"
      ],
      "metadata": {
        "colab": {
          "base_uri": "https://localhost:8080/"
        },
        "id": "A2ktb1BeQMi9",
        "outputId": "c0a69b49-136a-479f-c8eb-398bda75f79b"
      },
      "execution_count": null,
      "outputs": [
        {
          "output_type": "stream",
          "name": "stdout",
          "text": [
            "ith batch 100\n",
            "ith batch 200\n",
            "ith batch 300\n",
            "ith batch 400\n",
            "ith batch 500\n",
            "1.9657483100891113\n",
            "ith batch 100\n",
            "ith batch 200\n",
            "ith batch 300\n",
            "ith batch 400\n",
            "ith batch 500\n",
            "1.8460183143615723\n",
            "ith batch 100\n",
            "ith batch 200\n",
            "ith batch 300\n",
            "ith batch 400\n",
            "ith batch 500\n",
            "1.7043373584747314\n",
            "ith batch 100\n",
            "ith batch 200\n",
            "ith batch 300\n",
            "ith batch 400\n",
            "ith batch 500\n",
            "1.37043035030365\n",
            "ith batch 100\n",
            "ith batch 200\n",
            "ith batch 300\n",
            "ith batch 400\n",
            "ith batch 500\n",
            "1.5710716247558594\n",
            "ith batch 100\n",
            "ith batch 200\n",
            "ith batch 300\n",
            "ith batch 400\n",
            "ith batch 500\n",
            "1.4765361547470093\n",
            "ith batch 100\n",
            "ith batch 200\n",
            "ith batch 300\n",
            "ith batch 400\n",
            "ith batch 500\n",
            "1.411129355430603\n",
            "ith batch 100\n",
            "ith batch 200\n",
            "ith batch 300\n",
            "ith batch 400\n",
            "ith batch 500\n",
            "1.3186737298965454\n",
            "ith batch 100\n",
            "ith batch 200\n",
            "ith batch 300\n",
            "ith batch 400\n",
            "ith batch 500\n",
            "1.2674446105957031\n",
            "ith batch 100\n",
            "ith batch 200\n",
            "ith batch 300\n",
            "ith batch 400\n",
            "ith batch 500\n",
            "1.2234106063842773\n",
            "Accuracy of the network on the 10000 test images: 54.76%\n"
          ]
        }
      ]
    },
    {
      "cell_type": "markdown",
      "source": [
        "**Q2**"
      ],
      "metadata": {
        "id": "wJbR2-e69rG6"
      }
    },
    {
      "cell_type": "code",
      "source": [
        "import torch\n",
        "import torch.nn as nn\n",
        "import torch.optim as optim\n",
        "import torchvision\n",
        "import torchvision.transforms as transforms\n",
        "\n",
        "'''# Define the AE model'''\n",
        "class Autoencoder(nn.Module):\n",
        "    def __init__(self):\n",
        "        super(Autoencoder, self).__init__()\n",
        "\n",
        "        '''# Encoder layers'''\n",
        "        self.encoder = nn.Sequential(\n",
        "            nn.Linear(32 * 32 * 3, 128),\n",
        "            nn.ReLU(True),\n",
        "            nn.Linear(128, 64),\n",
        "            nn.ReLU(True),\n",
        "            nn.Linear(64, 32),\n",
        "            nn.ReLU(True),\n",
        "            nn.Linear(32, 16),\n",
        "            nn.ReLU(True),\n",
        "        )\n",
        "\n",
        "        '''# Decoder layers'''\n",
        "        self.decoder = nn.Sequential(\n",
        "            nn.Linear(16, 32),\n",
        "            nn.ReLU(True),\n",
        "            nn.Linear(32, 64),\n",
        "            nn.ReLU(True),\n",
        "            nn.Linear(64, 128),\n",
        "            nn.ReLU(True),\n",
        "            nn.Linear(128, 32 * 32 * 3),\n",
        "            nn.Tanh()\n",
        "        )\n",
        "\n",
        "        '''# Classification layer'''\n",
        "        self.fc1 = nn.Linear(16*32*32, 512)\n",
        "        self.fc2 = nn.Linear(512, 10)\n",
        "\n",
        "\n",
        "\n",
        "\n",
        "    def forward_ed(self, x):\n",
        "        x = self.encoder(x)\n",
        "        x = self.decoder(x)\n",
        "        # x = self.fc(x)\n",
        "        return x\n",
        "\n",
        "    def forward_label(self, x):\n",
        "          x = self.encoder(x)\n",
        "          x = self.fc1(x)\n",
        "          x = self.fc2(x)\n",
        "\n",
        "\n",
        "          return x\n",
        "\n",
        "'''# Initialize the model'''\n",
        "model = Autoencoder()\n",
        "\n",
        "'''# Use the Xavier initialization'''\n",
        "nn.init.xavier_uniform_(model.fc1.weight)\n",
        "nn.init.xavier_uniform_(model.fc2.weight)\n",
        "\n",
        "\n",
        "'''# Data augmentation (random flip and random noise)'''\n",
        "def augment(x, y):\n",
        "    if torch.rand(1) > 0.5:\n",
        "        x = torch.fliplr(x)\n",
        "    x += torch.randn(x.size(), dtype=x.dtype, layout=x.layout, device=x.device) * 0.1\n",
        "    return x, y\n",
        "\n",
        "'''# Define the loss function'''\n",
        "criterion_ed = nn.CrossEntropyLoss()\n",
        "\n",
        "'''# Define the optimizer'''\n",
        "optimizer_ed = optim.SGD(model.parameters(), lr=0.01)\n",
        "\n",
        "'''# Load the CIFAR10 dataset'''\n",
        "transform = transforms.Compose([\n",
        "    transforms.RandomHorizontalFlip(),\n",
        "    #transforms.RandomNoise(),\n",
        "    transforms.ToTensor()\n",
        "])\n",
        "\n",
        "train_set = torchvision.datasets.CIFAR10(root='./data', train=True,\n",
        "                                        download=True, transform=transform)\n",
        "train_loader = torch.utils.data.DataLoader(train_set, batch_size=100,\n",
        "                                          shuffle=True, num_workers=2)\n",
        "\n",
        "test_set = torchvision.datasets.CIFAR10(root='./data', train=False,\n",
        "                                        download=True, transform=transform)\n",
        "test_loader = torch.utils.data.DataLoader(train_set, batch_size=100,\n",
        "                                          shuffle=True, num_workers=2)\n",
        "\n"
      ],
      "metadata": {
        "colab": {
          "base_uri": "https://localhost:8080/"
        },
        "id": "V1wvXaJyBQO6",
        "outputId": "8cfe1069-265c-44a2-c578-4b520eb4ae6c"
      },
      "execution_count": null,
      "outputs": [
        {
          "output_type": "stream",
          "name": "stdout",
          "text": [
            "Files already downloaded and verified\n",
            "Files already downloaded and verified\n"
          ]
        }
      ]
    },
    {
      "cell_type": "code",
      "source": [
        "'''# Train the AE'''\n",
        "for epoch in range(10):\n",
        "    running_loss = 0.0\n",
        "    for i, data in enumerate(train_loader, 0):\n",
        "        inputs, labels = data\n",
        "        inputs = inputs.view(-1, 32 * 32 * 3)  # flatten the inputs\n",
        "\n",
        "        # Zero the gradient buffers\n",
        "        criterion_ed.zero_grad()\n",
        "\n",
        "        # Forward pass\n",
        "        outputs = model.forward_ed(inputs)\n",
        "        loss = criterion_ed(outputs, inputs)\n",
        "        loss.backward()\n",
        "        optimizer_ed.step()\n",
        "    print(loss.item())"
      ],
      "metadata": {
        "colab": {
          "base_uri": "https://localhost:8080/"
        },
        "id": "lxBNhTsSDv7e",
        "outputId": "148e4ddb-2c5a-4727-f115-ec6cb4184984"
      },
      "execution_count": null,
      "outputs": [
        {
          "output_type": "stream",
          "name": "stdout",
          "text": [
            "12916.6162109375\n",
            "12060.1484375\n",
            "12404.4521484375\n",
            "12426.3310546875\n",
            "11775.84765625\n",
            "12041.8046875\n",
            "12621.6064453125\n",
            "11564.8076171875\n",
            "12162.0927734375\n",
            "12332.9833984375\n"
          ]
        }
      ]
    },
    {
      "cell_type": "code",
      "source": [
        "correct = 0\n",
        "total = 0\n",
        "with torch.no_grad():\n",
        "    for data, target in test_loader:\n",
        "        # output = model(data)\n",
        "        data = data.view(-1, 32 * 32 * 3)  # flatten the inputs\n",
        "\n",
        "        outputs = model.forward_ed(data)\n",
        "\n",
        "        _, predicted = torch.max(outputs.data, 1)\n",
        "        total += target.size(0)\n",
        "        correct += (predicted == target).sum().item()\n",
        "\n",
        "accuracy = 100 * correct / total\n",
        "print('Accuracy of the network on the 10000 test images: {:.2f}%'.format(accuracy))"
      ],
      "metadata": {
        "colab": {
          "base_uri": "https://localhost:8080/"
        },
        "id": "pXamiJT7-jPf",
        "outputId": "ed0645bc-ea3c-4ca5-a457-0ee288bc8ea2"
      },
      "execution_count": null,
      "outputs": [
        {
          "output_type": "stream",
          "name": "stdout",
          "text": [
            "Accuracy of the network on the 10000 test images: 10.00%\n"
          ]
        }
      ]
    },
    {
      "cell_type": "code",
      "source": [],
      "metadata": {
        "id": "HC5rpJfJLEo6"
      },
      "execution_count": null,
      "outputs": []
    }
  ]
}